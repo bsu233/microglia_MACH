{
 "cells": [
  {
   "cell_type": "code",
   "execution_count": 1,
   "metadata": {
    "tags": []
   },
   "outputs": [
    {
     "output_type": "stream",
     "name": "stdout",
     "text": "pygame 1.9.6\nHello from the pygame community. https://www.pygame.org/contribute.html\n"
    }
   ],
   "source": [
    "%load_ext autoreload\n",
    "%autoreload 2\n",
    "import numpy as np\n",
    "import matplotlib.pylab as plt\n",
    "import cv2\n",
    "from matplotlib import image\n",
    "import os\n",
    "import numpy as np\n",
    "from scipy import ndimage\n",
    "from scipy.ndimage import morphology\n",
    "import mach_functions\n"
   ]
  },
  {
   "cell_type": "code",
   "execution_count": 2,
   "metadata": {},
   "outputs": [],
   "source": [
    "yamlFile=\"./Params.yaml\"\n",
    "Params = mach_functions.load_yaml(yamlFile)\n",
    "Filters = mach_functions.readInfilters(Params)"
   ]
  },
  {
   "cell_type": "code",
   "execution_count": 3,
   "metadata": {
    "tags": []
   },
   "outputs": [],
   "source": [
    "Images = mach_functions.readInImages(Params)\n"
   ]
  },
  {
   "cell_type": "code",
   "execution_count": 4,
   "metadata": {},
   "outputs": [],
   "source": [
    "detectedCells = dict()"
   ]
  },
  {
   "cell_type": "code",
   "execution_count": 7,
   "metadata": {},
   "outputs": [],
   "source": [
    "# pick up the rod cells first\n",
    "\n",
    "detectedCells['rod'] = mach_functions.Rodrotate(Images['grayImage'],\\\n",
    "                                   Filters['NormalFilters']['rod'],\\\n",
    "                                   Filters['PenaltyFilters']['rodp'],\\\n",
    "                                   rod_thres=Params['ThresValues']['rod'],\\\n",
    "                                   rodp_thres=Params['ThresValues']['rodp'])"
   ]
  },
  {
   "cell_type": "code",
   "execution_count": 8,
   "metadata": {
    "tags": []
   },
   "outputs": [
    {
     "output_type": "stream",
     "name": "stdout",
     "text": "aaa\n4\n9\n9\n"
    }
   ],
   "source": [
    "import test"
   ]
  },
  {
   "cell_type": "code",
   "execution_count": 10,
   "metadata": {},
   "outputs": [],
   "source": [
    "\n",
    "newtestImage = mach_functions.removeDetectedCells(Images['grayImage'],detectedCells['rod'],bgmthres=0.4)"
   ]
  },
  {
   "cell_type": "code",
   "execution_count": 11,
   "metadata": {},
   "outputs": [],
   "source": [
    "detectedCells['ram'], detectedCells['hyp'] = mach_functions.giveRamHyp(newtestImage,\\\n",
    "                                                 Filters['PartialFilters']['ramp'],\\\n",
    "                                                 Filters['PartialFilters']['hypp'],\\\n",
    "                                                 Params['ThresValues']['ramp'],\\\n",
    "                                                 Params['ThresValues']['hypp'] )"
   ]
  },
  {
   "cell_type": "code",
   "execution_count": 12,
   "metadata": {},
   "outputs": [],
   "source": [
    "# remove the ramified and hypertrophic cells\n",
    "newtestImage = mach_functions.removeDetectedCells(newtestImage,detectedCells['ram'],bgmthres=0.4)\n",
    "newtestImage = mach_functions.removeDetectedCells(newtestImage,detectedCells['hyp'],bgmthres=0.4)"
   ]
  },
  {
   "cell_type": "code",
   "execution_count": 13,
   "metadata": {},
   "outputs": [],
   "source": [
    "detectedCells['amoe'],detectedCells['dys'] = mach_functions.giveAmoeDys(newtestImage,Filters['NormalFilters']['amoe'],amoethres=0.33,areathes=210)"
   ]
  },
  {
   "cell_type": "code",
   "execution_count": 14,
   "metadata": {},
   "outputs": [],
   "source": [
    "import pickle"
   ]
  },
  {
   "cell_type": "code",
   "execution_count": 19,
   "metadata": {},
   "outputs": [],
   "source": [
    "with open(\"detectedCells\",\"wb\") as f:\n",
    "    pickle.dump(detectedCells,f)"
   ]
  },
  {
   "cell_type": "code",
   "execution_count": 41,
   "metadata": {},
   "outputs": [
    {
     "output_type": "error",
     "ename": "TypeError",
     "evalue": "unsupported operand type(s) for +: 'float' and 'mach_results'",
     "traceback": [
      "\u001b[0;31m---------------------------------------------------------------------------\u001b[0m",
      "\u001b[0;31mTypeError\u001b[0m                                 Traceback (most recent call last)",
      "\u001b[0;32m<ipython-input-41-2bc4362bad44>\u001b[0m in \u001b[0;36m<module>\u001b[0;34m\u001b[0m\n\u001b[0;32m----> 1\u001b[0;31m \u001b[0mPerformance_score\u001b[0m \u001b[0;34m=\u001b[0m \u001b[0mrod_results\u001b[0m \u001b[0;34m+\u001b[0m \u001b[0mram_results\u001b[0m \u001b[0;34m+\u001b[0m \u001b[0mhyp_results\u001b[0m \u001b[0;34m+\u001b[0m \u001b[0mamoe_results\u001b[0m \u001b[0;34m+\u001b[0m \u001b[0mdys_results\u001b[0m\u001b[0;34m\u001b[0m\u001b[0;34m\u001b[0m\u001b[0m\n\u001b[0m",
      "\u001b[0;31mTypeError\u001b[0m: unsupported operand type(s) for +: 'float' and 'mach_results'"
     ]
    }
   ],
   "source": [
    "Performance_score = rod_results + ram_results + hyp_results + amoe_results + dys_results"
   ]
  },
  {
   "cell_type": "code",
   "execution_count": 41,
   "metadata": {},
   "outputs": [],
   "source": [
    "#import pickle\n",
    "\n",
    "#with open('rod_thres_TP','wb') as f:\n",
    "#    pickle.dump(all_TP,f)\n",
    "    \n",
    "#with open('rod_thres_detected_cells','wb') as f:\n",
    "#    pickle.dump(all_detected_cells,f)"
   ]
  }
 ],
 "metadata": {
  "kernelspec": {
   "display_name": "Python 3",
   "language": "python",
   "name": "python3"
  },
  "language_info": {
   "codemirror_mode": {
    "name": "ipython",
    "version": 3
   },
   "file_extension": ".py",
   "mimetype": "text/x-python",
   "name": "python",
   "nbconvert_exporter": "python",
   "pygments_lexer": "ipython3",
   "version": "3.7.3-final"
  }
 },
 "nbformat": 4,
 "nbformat_minor": 2
}