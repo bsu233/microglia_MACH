{
 "cells": [
  {
   "cell_type": "code",
   "execution_count": 1,
   "metadata": {
    "tags": []
   },
   "outputs": [
    {
     "output_type": "stream",
     "name": "stdout",
     "text": "pygame 1.9.6\nHello from the pygame community. https://www.pygame.org/contribute.html\n"
    }
   ],
   "source": [
    "%load_ext autoreload\n",
    "%autoreload 2\n",
    "import numpy as np\n",
    "import matplotlib.pylab as plt\n",
    "import cv2\n",
    "from matplotlib import image\n",
    "import os\n",
    "import numpy as np\n",
    "from scipy import ndimage\n",
    "from scipy.ndimage import morphology\n",
    "import mach_functions\n"
   ]
  },
  {
   "cell_type": "code",
   "execution_count": 2,
   "metadata": {},
   "outputs": [],
   "source": [
    "yamlFile=\"./Params.yaml\"\n",
    "Params = mach_functions.load_yaml(yamlFile)\n",
    "Filters = mach_functions.readInfilters(Params)"
   ]
  },
  {
   "cell_type": "code",
   "execution_count": 3,
   "metadata": {
    "tags": []
   },
   "outputs": [],
   "source": [
    "Images = mach_functions.readInImages(Params)\n"
   ]
  },
  {
   "cell_type": "code",
   "execution_count": 4,
   "metadata": {},
   "outputs": [],
   "source": [
    "detectedCells = dict()"
   ]
  },
  {
   "cell_type": "code",
   "execution_count": 7,
   "metadata": {},
   "outputs": [],
   "source": [
    "# pick up the rod cells first\n",
    "\n",
    "detectedCells['rod'] = mach_functions.Rodrotate(Images['grayImage'],\\\n",
    "                                   Filters['NormalFilters']['rod'],\\\n",
    "                                   Filters['PenaltyFilters']['rodp'],\\\n",
    "                                   rod_thres=Params['ThresValues']['rod'],\\\n",
    "                                   rodp_thres=Params['ThresValues']['rodp'])"
   ]
  },
  {
   "cell_type": "code",
   "execution_count": 10,
   "metadata": {},
   "outputs": [],
   "source": [
    "\n",
    "newtestImage = mach_functions.removeDetectedCells(Images['grayImage'],detectedCells['rod'],bgmthres=0.4)"
   ]
  },
  {
   "cell_type": "code",
   "execution_count": 11,
   "metadata": {},
   "outputs": [],
   "source": [
    "detectedCells['ram'], detectedCells['hyp'] = mach_functions.giveRamHyp(newtestImage,\\\n",
    "                                                 Filters['PartialFilters']['ramp'],\\\n",
    "                                                 Filters['PartialFilters']['hypp'],\\\n",
    "                                                 Params['ThresValues']['ramp'],\\\n",
    "                                                 Params['ThresValues']['hypp'] )"
   ]
  },
  {
   "cell_type": "code",
   "execution_count": 12,
   "metadata": {},
   "outputs": [],
   "source": [
    "# remove the ramified and hypertrophic cells\n",
    "newtestImage = mach_functions.removeDetectedCells(newtestImage,detectedCells['ram'],bgmthres=0.4)\n",
    "newtestImage = mach_functions.removeDetectedCells(newtestImage,detectedCells['hyp'],bgmthres=0.4)"
   ]
  },
  {
   "cell_type": "code",
   "execution_count": 13,
   "metadata": {},
   "outputs": [],
   "source": [
    "detectedCells['amoe'],detectedCells['dys'] = mach_functions.giveAmoeDys(newtestImage,Filters['NormalFilters']['amoe'],amoethres=0.33,areathes=210)"
   ]
  },
  {
   "cell_type": "code",
   "execution_count": null,
   "metadata": {},
   "outputs": [],
   "source": [
    "machresults = mach_functions.machPerformance(detectedCells,Images['masks'])\n",
    "machresults.resetTPFPWeights()\n",
    "machresults.calculatePFscore()\n",
    "machresults.plotTPFPfigure('newTPFP.png')\n"
   ]
  }
 ],
 "metadata": {
  "kernelspec": {
   "display_name": "Python 3",
   "language": "python",
   "name": "python3"
  },
  "language_info": {
   "codemirror_mode": {
    "name": "ipython",
    "version": 3
   },
   "file_extension": ".py",
   "mimetype": "text/x-python",
   "name": "python",
   "nbconvert_exporter": "python",
   "pygments_lexer": "ipython3",
   "version": "3.7.3-final"
  }
 },
 "nbformat": 4,
 "nbformat_minor": 2
}